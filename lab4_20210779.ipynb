{
  "cells": [
    {
      "cell_type": "markdown",
      "metadata": {
        "id": "ihLoVLYBUA1l"
      },
      "source": [
        "Laboratorio 4\n",
        "Se tiene la siguiente ecuación:\n",
        "$$\n",
        "s =  \\sum_{n=1}^{N} \\frac{1}{n^{3}+3n+1}a^b\n",
        "$$\n",
        "\n",
        "\n",
        "La cual es una sumatoria en donde N∈N, a y b∈ R. Además, se sabe que N es un número que como máximo debe ser 4 294 967 29 y que tanto a como b no requieren mucha resolución.\n",
        "\n",
        "Se le pide realizar un análisis comparativo entre funciones en Python y C. El programa en C debe incluir lo siguiente:\n",
        "\n",
        "a) (1.0 punto) Una función que reciba como argumento de entrada el valor de N, a y b como argumentos de entrada y retorne el valor de s como salida. Para esta función usar la función pow para el cálculo del denominador y para el cálculo de a^b.\n"
      ]
    },
    {
      "cell_type": "code",
      "execution_count": 16,
      "metadata": {},
      "outputs": [],
      "source": [
        "! rm *.c *.so "
      ]
    },
    {
      "cell_type": "code",
      "execution_count": 17,
      "metadata": {
        "id": "-aD-p-3OVEHg"
      },
      "outputs": [
        {
          "name": "stdout",
          "output_type": "stream",
          "text": [
            "Writing funcionSumatoria.c\n"
          ]
        }
      ],
      "source": [
        "%%file funcionSumatoria.c\n",
        "\n",
        "#include <math.h>\n",
        "\n",
        "double calcular_sumatoria(int N, double a, double b){\n",
        "\n",
        "    double suma, numerador, denominador;\n",
        "    \n",
        "    int n;\n",
        "\n",
        "    numerador = pow(a, b);\n",
        "\n",
        "    suma = 0;\n",
        "\n",
        "    for (int n=1; n<=N; n++){\n",
        "        \n",
        "        denominador = pow((double)n,3.0)+ 3*n + 1;\n",
        "        suma = suma + numerador/denominador;\n",
        "\n",
        "    }\n",
        "\n",
        "    return suma;\n",
        "}\n"
      ]
    },
    {
      "cell_type": "code",
      "execution_count": 18,
      "metadata": {},
      "outputs": [],
      "source": [
        "!gcc -shared -o funcionSumatoria.so funcionSumatoria.c -lm"
      ]
    },
    {
      "cell_type": "markdown",
      "metadata": {
        "id": "HFirieO3T6iN"
      },
      "source": [
        "b) (1.0 punto) Una función que reciba como argumento de entrada el valor de N, a y b como argumentos de entrada y retorne el valor de s como salida. Para esta función solo usar la función pow para el cálculo de a^b."
      ]
    },
    {
      "cell_type": "code",
      "execution_count": 19,
      "metadata": {
        "id": "uey2mybjVJb9"
      },
      "outputs": [
        {
          "name": "stdout",
          "output_type": "stream",
          "text": [
            "Writing funcionSumatoria2.c\n"
          ]
        }
      ],
      "source": [
        "%%file funcionSumatoria2.c\n",
        "\n",
        "#include <math.h>\n",
        "\n",
        "double calcular_sumatoria2(int N, double a, double b){\n",
        "\n",
        "    double suma2, numerador2, denominador2;\n",
        "    \n",
        "    int n2;\n",
        "\n",
        "    numerador2 = pow(a, b);\n",
        "\n",
        "    suma2 = 0;\n",
        "\n",
        "    for (int n2=1; n2<=N; n2++){\n",
        "\n",
        "        double n2d = (double)n2;\n",
        "        \n",
        "        denominador2 = (n2d*n2d*n2d)+ 3.0*n2d + 1;\n",
        "        suma2 = suma2 + numerador2/denominador2;\n",
        "\n",
        "    }\n",
        "\n",
        "    return suma2;\n",
        "}\n"
      ]
    },
    {
      "cell_type": "code",
      "execution_count": 20,
      "metadata": {},
      "outputs": [],
      "source": [
        "!gcc -shared -o funcionSumatoria2.so funcionSumatoria2.c -lm"
      ]
    },
    {
      "cell_type": "markdown",
      "metadata": {
        "id": "3Pnt0_KpT_H1"
      },
      "source": [
        "Un programa principal en Python donde se debe incluir:\n",
        "\n",
        "c) (1.0 punto) Una función que reciba como argumento de entrada el valor de N, a y b como argumentos de entrada y retorne el valor de s como salida. Para esta función usar la función pow para el cálculo del denominador y para el cálculo de a^b.\n"
      ]
    },
    {
      "cell_type": "code",
      "execution_count": 21,
      "metadata": {
        "id": "UHVkIQMXVQTu"
      },
      "outputs": [],
      "source": [
        "import math\n",
        "\n",
        "def sumatoria(N, a, b):\n",
        "\n",
        "    suma=0\n",
        "\n",
        "    numerador = pow(a,b)\n",
        "    \n",
        "    for n in range (1,N+1):\n",
        "        denominador = pow(n,3) + (3*n) +1\n",
        "        suma = suma+ (numerador/denominador)\n",
        "    return suma\n"
      ]
    },
    {
      "cell_type": "markdown",
      "metadata": {
        "id": "ses9asX2T6oW"
      },
      "source": [
        "d) (1.0 punto) Una función que reciba como argumento de entrada el valor de N, a y b como argumentos de entrada y retorne el valor de s como salida. Para esta función solo usar la función pow para el cálculo de a^b.\n"
      ]
    },
    {
      "cell_type": "code",
      "execution_count": 22,
      "metadata": {
        "id": "FnK3aGzgVXjD"
      },
      "outputs": [],
      "source": [
        "import math\n",
        "\n",
        "def sumatoria2(N, a, b):\n",
        "\n",
        "    suma2=0\n",
        "\n",
        "    numerador2= pow(a,b)\n",
        "    \n",
        "    for n2 in range (1, N+1):\n",
        "        denominador2= (n2*n2*n2)+ (3*n2) +1\n",
        "        suma2 = suma2 + (numerador2/denominador2)\n",
        "    return suma2\n"
      ]
    },
    {
      "cell_type": "markdown",
      "metadata": {
        "id": "Hlonqu-lVX7r"
      },
      "source": [
        "e) (2.0 punto) El llamado a la librería generada en C y los respectivos argumentos de entrada y de salida. Además, en comentarios, debe justificar los tipos de datos utilizados."
      ]
    },
    {
      "cell_type": "code",
      "execution_count": 23,
      "metadata": {
        "id": "zPsDy-2SVcUA"
      },
      "outputs": [],
      "source": [
        "import ctypes\n",
        "\n",
        "\n",
        "#llamaremos a las dos funciones en c creadas\n",
        "\n",
        "sumatoria1C= ctypes.CDLL('./funcionSumatoria.so')\n",
        "    \n",
        "#los tipos de datos utilizados son int para N y double para a y b, esto ya que N pertenee al conjunto de los naturales, mientras que a y b pertenecen al conjunto de los reales, por lo que es prefereible usar double, de esta forma no habrían errores\n",
        "sumatoria1C.calcular_sumatoria.argtypes= [ctypes.c_int, ctypes.c_double, ctypes.c_double]\n",
        "sumatoria1C.calcular_sumatoria.restype= ctypes.c_double\n",
        "\n",
        "sumatoria2C= ctypes.CDLL('./funcionSumatoria2.so')\n",
        "\n",
        "sumatoria2C.calcular_sumatoria2.argtypes= [ctypes.c_int, ctypes.c_double, ctypes.c_double]\n",
        "sumatoria2C.calcular_sumatoria2.restype= ctypes.c_double\n",
        "\n",
        "\n"
      ]
    },
    {
      "cell_type": "markdown",
      "metadata": {
        "id": "P8zw-5-cVcsV"
      },
      "source": [
        "f) (2.0 puntos) Validar que las 4 funciones dan los mismos resultados para los valores 1000, 3.5 y -0.25 para N,a y b, respectivamente.\n"
      ]
    },
    {
      "cell_type": "code",
      "execution_count": 24,
      "metadata": {
        "id": "B4rcgq6XVfLh"
      },
      "outputs": [],
      "source": [
        "\n",
        "resultado1C= sumatoria1C.calcular_sumatoria(1000, 3.5, -0.25)\n",
        "\n",
        "resultado2C= sumatoria2C.calcular_sumatoria2(1000, 3.5, -0.25)\n",
        "\n",
        "resultado1P= sumatoria(1000, 3.5, -0.25)\n",
        "\n",
        "resultado2P= sumatoria2(1000, 3.5, -0.25)\n",
        "\n"
      ]
    },
    {
      "cell_type": "code",
      "execution_count": 25,
      "metadata": {},
      "outputs": [
        {
          "data": {
            "text/plain": [
              "0.24081597314253553"
            ]
          },
          "execution_count": 25,
          "metadata": {},
          "output_type": "execute_result"
        }
      ],
      "source": [
        "resultado1C"
      ]
    },
    {
      "cell_type": "code",
      "execution_count": 26,
      "metadata": {},
      "outputs": [
        {
          "data": {
            "text/plain": [
              "0.24081597314253553"
            ]
          },
          "execution_count": 26,
          "metadata": {},
          "output_type": "execute_result"
        }
      ],
      "source": [
        "resultado2C"
      ]
    },
    {
      "cell_type": "code",
      "execution_count": 27,
      "metadata": {},
      "outputs": [
        {
          "data": {
            "text/plain": [
              "0.24081597314253553"
            ]
          },
          "execution_count": 27,
          "metadata": {},
          "output_type": "execute_result"
        }
      ],
      "source": [
        "resultado1P"
      ]
    },
    {
      "cell_type": "code",
      "execution_count": 28,
      "metadata": {},
      "outputs": [
        {
          "data": {
            "text/plain": [
              "0.24081597314253553"
            ]
          },
          "execution_count": 28,
          "metadata": {},
          "output_type": "execute_result"
        }
      ],
      "source": [
        "resultado2P"
      ]
    },
    {
      "cell_type": "markdown",
      "metadata": {
        "id": "FjT3nd5GVfmn"
      },
      "source": [
        "g) (2.0 puntos) Realizar un análisis temporal de las 4 funciones considerando los datos del inciso f). Considerar graficar los tiempos para un valor de 50 iteraciones. Realizar comentarios acerca del resultado."
      ]
    },
    {
      "cell_type": "code",
      "execution_count": 15,
      "metadata": {
        "id": "zfpr51RZVh7-"
      },
      "outputs": [
        {
          "data": {
            "image/png": "[encoded data removed]",
            "text/plain": [
              "<Figure size 640x480 with 1 Axes>"
            ]
          },
          "metadata": {},
          "output_type": "display_data"
        }
      ],
      "source": [
        "import numpy as np\n",
        "import time\n",
        "import statistics\n",
        "import matplotlib.pyplot as plt\n",
        "import ctypes\n",
        "\n",
        "import math\n",
        "\n",
        "def sumatoria(N, a, b):\n",
        "\n",
        "    suma=0\n",
        "\n",
        "    numerador = pow(a,b)\n",
        "    \n",
        "    for n in range (1,N+1):\n",
        "        denominador = pow(n,3) + (3*n) +1\n",
        "        suma = suma+ (numerador/denominador)\n",
        "    return suma\n",
        "\n",
        "def sumatoria2(N, a, b):\n",
        "\n",
        "    suma2=0\n",
        "\n",
        "    numerador2= pow(a,b)\n",
        "    \n",
        "    for n2 in range (1, N+1):\n",
        "        denominador2= (n2*n2*n2)+ (3*n2) +1\n",
        "        suma2 = suma2 + (numerador2/denominador2)\n",
        "    return suma2\n",
        "\n",
        "\n",
        "#llamaremos a las dos funciones en c creadas\n",
        "\n",
        "sumatoria1C= ctypes.CDLL('./funcionSumatoria.so')\n",
        "    \n",
        "#los tipos de datos utilizados son int para N y double para a y b, esto ya que N pertenee al conjunto de los naturales, mientras que a y b pertenecen al conjunto de los reales, por lo que es prefereible usar double, de esta forma no habrían errores\n",
        "sumatoria1C.calcular_sumatoria.argtypes= [ctypes.c_int, ctypes.c_double, ctypes.c_double]\n",
        "sumatoria1C.calcular_sumatoria.restype= ctypes.c_double\n",
        "\n",
        "sumatoria2C= ctypes.CDLL('./funcionSumatoria2.so')\n",
        "\n",
        "sumatoria2C.calcular_sumatoria2.argtypes= [ctypes.c_int, ctypes.c_double, ctypes.c_double]\n",
        "sumatoria2C.calcular_sumatoria2.restype= ctypes.c_double\n",
        "\n",
        "iteraciones= 50\n",
        "\n",
        "time_c1= []\n",
        "time_c2= []\n",
        "time_p1= []\n",
        "time_p2= []\n",
        "\n",
        "for _ in range (iteraciones):\n",
        "    tic1= time.perf_counter()\n",
        "    sumatoria1C.calcular_sumatoria(1000, 3.5, -0.25)\n",
        "    toc1= time.perf_counter()\n",
        "\n",
        "    time_c1.append(1e6*(toc1-tic1))\n",
        "\n",
        "    tic2= time.perf_counter()\n",
        "    sumatoria2C.calcular_sumatoria2(1000, 3.5, -0.25)\n",
        "    toc2= time.perf_counter()\n",
        "\n",
        "    time_c2.append(1e6*(toc2-tic2))\n",
        "\n",
        "    tic3= time.perf_counter()\n",
        "    sumatoria(1000, 3.5, -0.25)\n",
        "    toc3= time.perf_counter()\n",
        "\n",
        "    time_p1.append(1e6*(toc3-tic3))\n",
        "\n",
        "    tic4= time.perf_counter()\n",
        "    sumatoria2(1000, 3.5, -0.25)\n",
        "    toc4= time.perf_counter()\n",
        "\n",
        "    time_p2.append(1e6*(toc4-tic4))\n",
        "\n",
        "plt.plot(time_c1)\n",
        "plt.plot(time_c2)\n",
        "plt.plot(time_p1)\n",
        "plt.plot(time_p2)\n",
        "plt.grid()\n",
        "plt.legend([\"Time Python\", \"Time C\", \"Time C2\", \"tIME pYTHON2\"])\n",
        "plt.xlabel(\"Iteraciones\")\n",
        "plt.ylabel(\"Tiempo [us]\")\n",
        "plt.savefig(\"Sumatoria_lab4.png\")\n",
        "plt.show()\n",
        "plt.close()\n",
        "\n"
      ]
    },
    {
      "cell_type": "markdown",
      "metadata": {
        "id": "MNz_uiiIViPv"
      },
      "source": [
        "h) (2.0 puntos) Realizar un análisis temporal de las 4 funciones considerando N=1024,2048,4096,8192,16384,32768. Considerar 50 iteraciones para cada N. Graficar el resultado y brindar comentarios acerca del resultado.\n"
      ]
    },
    {
      "cell_type": "code",
      "execution_count": null,
      "metadata": {
        "id": "ELD1BZUKVmge"
      },
      "outputs": [],
      "source": []
    },
    {
      "cell_type": "markdown",
      "metadata": {
        "id": "HSzQBi-8Vm-f"
      },
      "source": [
        "i) (3.0 puntos) Calcular y graficar el SpeedUP para los mismos rangos de N del inciso anterior. Considerar que el SpeedUP debe ser entre las funciones análogas entre las funciones en C y Python. Realizar comentarios acerca de sus resultados"
      ]
    },
    {
      "cell_type": "code",
      "execution_count": null,
      "metadata": {
        "id": "6VK3bHYGVzv2"
      },
      "outputs": [],
      "source": []
    }
  ],
  "metadata": {
    "colab": {
      "provenance": []
    },
    "kernelspec": {
      "display_name": "Python 3",
      "name": "python3"
    },
    "language_info": {
      "codemirror_mode": {
        "name": "ipython",
        "version": 3
      },
      "file_extension": ".py",
      "mimetype": "text/x-python",
      "name": "python",
      "nbconvert_exporter": "python",
      "pygments_lexer": "ipython3",
      "version": "3.10.12"
    }
  },
  "nbformat": 4,
  "nbformat_minor": 0
}
