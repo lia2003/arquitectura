{
  "cells": [
    {
      "cell_type": "markdown",
      "metadata": {
        "id": "lKD4nrzXk6vg"
      },
      "source": [
        "# Mediana, Medias pitagóricas, CPI y MIPS"
      ]
    },
    {
      "cell_type": "markdown",
      "metadata": {
        "id": "tk3-8Qn7lCIk"
      },
      "source": [
        "## Mediana"
      ]
    },
    {
      "cell_type": "code",
      "execution_count": 1,
      "metadata": {},
      "outputs": [
        {
          "name": "stdout",
          "output_type": "stream",
          "text": [
            "Overwriting calcular_mediana.c\n"
          ]
        }
      ],
      "source": [
        "%%file calcular_mediana.c\n",
        "\n",
        "#include <stdlib.h>\n",
        "#include <stdio.h>\n",
        "#include <time.h>\n",
        "#include <math.h>\n",
        "\n",
        "void llenar_arreglo(double* arr, int N){\n",
        "    double temp = 0.0;\n",
        "    for(int i = 0; i < N; i++){\n",
        "        temp = rand() % 255;\n",
        "        arr[i] = (sin(temp) + cos(temp)) / sqrt(2.0);\n",
        "    }\n",
        "}\n",
        "\n",
        "void imprimir_arreglo(double* arr, int N){\n",
        "    printf(\"[ \");\n",
        "    for(int i = 0; i < N-1; i++){\n",
        "        printf(\"%lf, \", arr[i]);\n",
        "    }\n",
        "    printf(\"%lf ]\\n\", arr[N-1]);\n",
        "}\n",
        "\n",
        "void ordenar_arreglo(double* arr, int N){\n",
        "    double temp = 0.0;\n",
        "    for(int i = 0; i < N - 1; i++){\n",
        "        for(int j = 0; j < N - i - 1; j++){\n",
        "            if (arr[j] > arr[j+1]){\n",
        "                temp = arr[j];\n",
        "                arr[j] = arr[j+1];\n",
        "                arr[j+1] = temp;\n",
        "            }\n",
        "        }\n",
        "    }\n",
        "}\n",
        "\n",
        "double mediana(double* arr_ord, int N){\n",
        "    if (N % 2 == 0){\n",
        "        return (arr_ord[ N / 2 ] + arr_ord[ (N/2) - 1 ]) / 2.0;\n",
        "    }\n",
        "    return arr_ord[ N / 2 ];\n",
        "}\n",
        "\n",
        "double minimo(double* arr_ord, int N){\n",
        "    return arr_ord[ 0 ];\n",
        "}\n",
        "\n",
        "double maximo(double* arr_ord, int N){\n",
        "    return arr_ord[ N-1 ];\n",
        "}\n",
        "\n",
        "int main(){\n",
        "\n",
        "    srand(time(NULL));\n",
        "\n",
        "    int N = 1024;\n",
        "\n",
        "    double* arr = (double*)calloc(N, sizeof(double));\n",
        "\n",
        "    llenar_arreglo(arr, N);\n",
        "\n",
        "    //imprimir_arreglo(arr, N);\n",
        "\n",
        "    ordenar_arreglo(arr, N);\n",
        "\n",
        "    //imprimir_arreglo(arr, N);\n",
        "\n",
        "    double medi = mediana(arr, N);\n",
        "\n",
        "    double mini = minimo(arr, N);\n",
        "\n",
        "    double maxi = maximo(arr, N);\n",
        "\n",
        "    printf(\"Mediana: %lf\\n\", medi);\n",
        "    printf(\"Mínimo: %lf\\n\", mini);\n",
        "    printf(\"Máximo: %lf\\n\", maxi);\n",
        "\n",
        "    return 0;\n",
        "}"
      ]
    },
    {
      "cell_type": "code",
      "execution_count": 2,
      "metadata": {},
      "outputs": [],
      "source": [
        "! gcc calcular_mediana.c -o calcular_mediana -lm"
      ]
    },
    {
      "cell_type": "code",
      "execution_count": 3,
      "metadata": {},
      "outputs": [
        {
          "name": "stdout",
          "output_type": "stream",
          "text": [
            "Mediana: 0.055278\n",
            "Mínimo: -0.999978\n",
            "Máximo: 0.999998\n"
          ]
        }
      ],
      "source": [
        "! ./calcular_mediana"
      ]
    },
    {
      "cell_type": "markdown",
      "metadata": {
        "id": "LKjjjFYmleDM"
      },
      "source": [
        "## Medias pitagóricas"
      ]
    },
    {
      "cell_type": "code",
      "execution_count": 4,
      "metadata": {},
      "outputs": [
        {
          "name": "stdout",
          "output_type": "stream",
          "text": [
            "Overwriting med_pit.c\n"
          ]
        }
      ],
      "source": [
        "%%file med_pit.c\n",
        "\n",
        "#include <math.h>\n",
        "#include <stdio.h>\n",
        "\n",
        "double arit_med_2(double a, double b){\n",
        "    return (a + b)/2.0;\n",
        "}\n",
        "\n",
        "double geo_med_2(double a, double b){\n",
        "    return pow(a*b, 1.0 / 2.0);\n",
        "}\n",
        "\n",
        "double har_med_2(double a, double b){\n",
        "    return 2.0 / ((1.0 / a) + (1.0 / b));\n",
        "}\n",
        "\n",
        "int main(){\n",
        "\n",
        "    double a = 1.0;\n",
        "    double b = 2.0;\n",
        "\n",
        "    double am = arit_med_2(a,b);\n",
        "    double gm = geo_med_2(a,b);\n",
        "    double hm = har_med_2(a,b);\n",
        "\n",
        "    printf(\"AM(%lf,%lf)=%lf\\n\",a,b,am);\n",
        "    printf(\"GM(%lf,%lf)=%lf\\n\",a,b,gm);\n",
        "    printf(\"HM(%lf,%lf)=%lf\\n\",a,b,hm);\n",
        "\n",
        "    return 0;\n",
        "}"
      ]
    },
    {
      "cell_type": "code",
      "execution_count": 5,
      "metadata": {},
      "outputs": [],
      "source": [
        "! gcc med_pit.c -o med_pit -lm"
      ]
    },
    {
      "cell_type": "code",
      "execution_count": 6,
      "metadata": {},
      "outputs": [
        {
          "name": "stdout",
          "output_type": "stream",
          "text": [
            "AM(1.000000,2.000000)=1.500000\n",
            "GM(1.000000,2.000000)=1.414214\n",
            "HM(1.000000,2.000000)=1.333333\n"
          ]
        }
      ],
      "source": [
        "! ./med_pit"
      ]
    },
    {
      "cell_type": "markdown",
      "metadata": {
        "id": "pJfy9VlZlg0s"
      },
      "source": [
        "## CPI y MIPS"
      ]
    },
    {
      "cell_type": "markdown",
      "metadata": {},
      "source": [
        "Necesario:\n",
        "__rdtsc()\n",
        "#include <x86intrin.h>"
      ]
    },
    {
      "cell_type": "code",
      "execution_count": 7,
      "metadata": {
        "id": "YWCcGrgnk2ub"
      },
      "outputs": [
        {
          "name": "stdout",
          "output_type": "stream",
          "text": [
            "CPU MHz máx.:                        4800,0000\n",
            "CPU MHz mín.:                        800,0000\n"
          ]
        }
      ],
      "source": [
        "! lscpu | grep 'CPU MHz'"
      ]
    },
    {
      "cell_type": "code",
      "execution_count": 8,
      "metadata": {},
      "outputs": [
        {
          "name": "stdout",
          "output_type": "stream",
          "text": [
            "Overwriting suma.c\n"
          ]
        }
      ],
      "source": [
        "%%file suma.c\n",
        "\n",
        "int suma(int a, int b){\n",
        "    return a+b;\n",
        "}"
      ]
    },
    {
      "cell_type": "code",
      "execution_count": 9,
      "metadata": {},
      "outputs": [],
      "source": [
        "! gcc -c -Os suma.c -o suma.o"
      ]
    },
    {
      "cell_type": "code",
      "execution_count": 10,
      "metadata": {},
      "outputs": [
        {
          "name": "stdout",
          "output_type": "stream",
          "text": [
            "\n",
            "suma.o:     formato del fichero elf64-x86-64\n",
            "\n",
            "\n",
            "Desensamblado de la sección .text:\n",
            "\n",
            "0000000000000000 <suma>:\n",
            "   0:\tf3 0f 1e fa          \tendbr64 \n",
            "   4:\t8d 04 37             \tlea    eax,[rdi+rsi*1]\n",
            "   7:\tc3                   \tret    \n"
          ]
        }
      ],
      "source": [
        "! objdump -M intel -j .text -D suma.o"
      ]
    },
    {
      "cell_type": "code",
      "execution_count": 11,
      "metadata": {},
      "outputs": [
        {
          "name": "stdout",
          "output_type": "stream",
          "text": [
            "Overwriting calcular_cpi.c\n"
          ]
        }
      ],
      "source": [
        "%%file calcular_cpi.c\n",
        "\n",
        "#include <time.h>\n",
        "#include <stdio.h>\n",
        "#include <stdlib.h>\n",
        "#include <x86intrin.h>\n",
        "\n",
        "int suma(int a, int b){\n",
        "    return a+b;\n",
        "}\n",
        "\n",
        "void ordenar_arreglo(long* arr, int N){\n",
        "    double temp = 0.0;\n",
        "    for(int i = 0; i < N - 1; i++){\n",
        "        for(int j = 0; j < N - i - 1; j++){\n",
        "            if (arr[j] > arr[j+1]){\n",
        "                temp = arr[j];\n",
        "                arr[j] = arr[j+1];\n",
        "                arr[j+1] = temp;\n",
        "            }\n",
        "        }\n",
        "    }\n",
        "}\n",
        "\n",
        "double mediana(long* arr_ord, int N){\n",
        "    if (N % 2 == 0){\n",
        "        return ((double)arr_ord[ N / 2 ] + (double)arr_ord[ (N/2) - 1 ]) / 2.0;\n",
        "    }\n",
        "    return arr_ord[ N / 2 ];\n",
        "}\n",
        "\n",
        "double minimo(long* arr_ord, int N){\n",
        "    return (double)arr_ord[ 0 ];\n",
        "}\n",
        "\n",
        "double maximo(long* arr_ord, int N){\n",
        "    return (double)arr_ord[ N-1 ];\n",
        "}\n",
        "\n",
        "int main(){\n",
        "\n",
        "    srand(time(NULL));\n",
        "\n",
        "    int a;\n",
        "    int b;\n",
        "    int res = 0;\n",
        "\n",
        "    long tic, toc;\n",
        "\n",
        "    int N = 250000;\n",
        "\n",
        "    long* arr = (long*)calloc(N, sizeof(long));\n",
        "\n",
        "    for(int i = 0; i < N; i++){\n",
        "        a = rand()%9;\n",
        "        b = rand()%9;\n",
        "\n",
        "        tic = __rdtsc();\n",
        "        res = suma(a,b);\n",
        "        toc = __rdtsc();\n",
        "        \n",
        "        arr[i] = (long)(toc - tic);\n",
        "    }\n",
        "\n",
        "    printf(\"%d+%d=%d\\n\",a,b,res);\n",
        "\n",
        "    ordenar_arreglo(arr, N);\n",
        "\n",
        "    double medi = mediana(arr, N);\n",
        "    double mini = minimo(arr, N);\n",
        "    double maxi = maximo(arr, N);\n",
        "\n",
        "    printf(\"Mínimo: %lf\\n\", mini);\n",
        "    printf(\"Máximo: %lf\\n\", maxi);\n",
        "    printf(\"Mediana: %lf\\n\", medi);\n",
        "\n",
        "    double CPI = medi / 3.0;\n",
        "\n",
        "    printf(\"CPI: %lf\\n\", CPI);\n",
        "\n",
        "    return 0;\n",
        "}"
      ]
    },
    {
      "cell_type": "code",
      "execution_count": 12,
      "metadata": {},
      "outputs": [],
      "source": [
        "! gcc -Os calcular_cpi.c -o calcular_cpi"
      ]
    },
    {
      "cell_type": "code",
      "execution_count": 13,
      "metadata": {},
      "outputs": [
        {
          "name": "stdout",
          "output_type": "stream",
          "text": [
            "0+6=6\n"
          ]
        },
        {
          "name": "stdout",
          "output_type": "stream",
          "text": [
            "Mínimo: 13.000000\n",
            "Máximo: 45982.000000\n",
            "Mediana: 16.000000\n",
            "CPI: 5.333333\n"
          ]
        }
      ],
      "source": [
        "! ./calcular_cpi"
      ]
    }
  ],
  "metadata": {
    "colab": {
      "provenance": []
    },
    "kernelspec": {
      "display_name": "Python 3",
      "name": "python3"
    },
    "language_info": {
      "codemirror_mode": {
        "name": "ipython",
        "version": 3
      },
      "file_extension": ".py",
      "mimetype": "text/x-python",
      "name": "python",
      "nbconvert_exporter": "python",
      "pygments_lexer": "ipython3",
      "version": "3.10.12"
    }
  },
  "nbformat": 4,
  "nbformat_minor": 0
}
