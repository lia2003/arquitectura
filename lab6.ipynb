{
  "nbformat": 4,
  "nbformat_minor": 0,
  "metadata": {
    "colab": {
      "provenance": []
    },
    "kernelspec": {
      "name": "python3",
      "display_name": "Python 3"
    },
    "language_info": {
      "name": "python"
    }
  },
  "cells": [
    {
      "cell_type": "markdown",
      "source": [
        "# Laboratorio 6\n",
        "\n",
        "Indicaciones generales:\n",
        "\n",
        "* En lo que respecta a `C` no deberá usar punteros, ni arreglos. Tampoco se deberá emplear administración de memoria dinámica, ni de funciones auxiliares de ninguna librería.\n",
        "\n",
        "* Los puntajes de ítems relacionados con mediciones de tiempo, error relativo y presentación de gráficos solo serán asignados en caso sus funciones estén correctamente implementadas.\n",
        "\n",
        "* Las funciones implementadas solo deberán tener los argumentos mencionados en sus respectivos ítems.\n",
        "\n",
        "* Los resultados de la función `_slow_` serán las referencias para medir los speedups.\n",
        "\n",
        "* No se puede emplear ChatGPT, ni ningún modelo de lenguaje.\n",
        "\n",
        "* Puede emplear apuntes, clases y hacer consultas en foros de internet."
      ],
      "metadata": {
        "id": "6hYqIcXl8oby"
      }
    },
    {
      "cell_type": "code",
      "source": [
        "# no borrar esta celda\n",
        "! rm *.c *.o *.so"
      ],
      "metadata": {
        "id": "paAUiOUEf63U"
      },
      "execution_count": null,
      "outputs": []
    },
    {
      "cell_type": "markdown",
      "source": [
        "## Ejercicio"
      ],
      "metadata": {
        "id": "aToubh8_9Mf7"
      }
    },
    {
      "cell_type": "markdown",
      "source": [
        "El coseno de un ángulo `x` se calcula con la siguiente serie:\n",
        "\n",
        "$$\n",
        "cos(x) = 1 - \\frac{x^{2}}{2!} + \\frac{x^{4}}{4!} - \\frac{x^{6}}{6!} + \\frac{x^{8}}{8!} - \\cdots\n",
        "$$\n",
        "\n",
        "Durante el laboratorio se le solicitará implementar una grupo de funciones basados en esta serie."
      ],
      "metadata": {
        "id": "DLiudWQMxCN4"
      }
    },
    {
      "cell_type": "markdown",
      "source": [
        "1. Implementar una función en `python` que calcule el coseno de un ángulo `x`.\n",
        "\n",
        "Nombre: `py_slow_cos`\n",
        "\n",
        "Argumentos:\n",
        "* `x` : ángulo\n",
        "* `n_terms`: cantidad de términos\n",
        "\n",
        "Resultado: `cos(x)`\n",
        "\n",
        "Observaciones: \n",
        "\n",
        "* No debe emplear funciones de módulos auxiliaries, ni suyas propias. \n",
        "* Todo se debe hacer dentro de la función."
      ],
      "metadata": {
        "id": "KFL8Xx67x1dM"
      }
    },
    {
      "cell_type": "markdown",
      "source": [
        "2. Implementar una función en `python` que calcule el coseno de un ángulo `x`.\n",
        "\n",
        "Nombre: `py_fast_cos`\n",
        "\n",
        "Argumentos:\n",
        "* `x` : ángulo\n",
        "* `n_terms`: cantidad de términos\n",
        "\n",
        "Resultado: `cos(x)`\n",
        "\n",
        "Observaciones: \n",
        "* No puede emplear factorial de ninguna manera. \n",
        "* No debe emplear funciones de módulos auxiliares, ni suyas propias.\n",
        "* Debe ser iterativo.\n",
        "* Sugerencia: Deducir el término $t_{n}$ en función del término $t_{n-1}$"
      ],
      "metadata": {
        "id": "tZb2TQFkyZLB"
      }
    },
    {
      "cell_type": "markdown",
      "source": [
        "3. En una celda mágica implementar dos versiones en `C` para la función `py_fast_cos`. Una versión trabajará con tipo `double` y otra trabajará con tipo `long double`. Considere que estas funciones tienen los mismos argumentos que la función `py_fast_cos`.\n",
        "\n",
        "Observaciones:\n",
        "\n",
        "* Justifique el tipo de dato de cada uno de los argumentos.\n",
        "* Justifique el tipo de dato que devuelve la función."
      ],
      "metadata": {
        "id": "S-UTwnAly7J_"
      }
    },
    {
      "cell_type": "markdown",
      "source": [
        "4. Crear el *object file* y la *shared library*"
      ],
      "metadata": {
        "id": "xTSS1cuczfEL"
      }
    },
    {
      "cell_type": "markdown",
      "source": [
        "5. Hacer una función que enlace con `Python` mediante `ctypes` las funciones anteriores. Esta función debe devolver las dos funciones configuradas."
      ],
      "metadata": {
        "id": "pGaNmLYp0B0k"
      }
    },
    {
      "cell_type": "markdown",
      "source": [
        "6. Haga una instancia de las dos funciones"
      ],
      "metadata": {
        "id": "0H67KecC0KKc"
      }
    },
    {
      "cell_type": "markdown",
      "source": [
        "7. Implemente una función que de forma iterativa encuentre la cantidad de términos que requieren sus funciones para calcular con una determinada precisión el seno de un grupo de ángulos definidos entre $[inf, sup]$.\n",
        "\n",
        "Nombre de la función: `encontrar_n_terms`\n",
        "\n",
        "Argumentos:\n",
        "\n",
        "* `f`: función\n",
        "\n",
        "* `inf`: extremo izquierdo del dominio\n",
        "\n",
        "* `sup`: extremo derecho del dominio\n",
        "\n",
        "* `n_angs`: cantidad de ángulos\n",
        "\n",
        "* `pre`: precisión\n",
        "\n",
        "Resultado: Cantidad de términos\n",
        "\n",
        "Observaciones: \n",
        "* Puede usar la función `linspace` del módulo `numpy` para crear su vector de ángulos, y la función `norm` del submódulo `linalg` del módulo `numpy` para calcular la norma de un arreglo. \n",
        "* Para su referencia considere el resultado de la función `cos` del módulo `numpy`.\n",
        "\n"
      ],
      "metadata": {
        "id": "0MBLgUiu0abD"
      }
    },
    {
      "cell_type": "markdown",
      "source": [
        "8. Haga una prueba de `encontrar_n_terms` para cada una de sus funciones. \n",
        "\n",
        "Considere:\n",
        "* `inf` = -2pi\n",
        "* `sup` = 2pi\n",
        "* `n_angs` = 1000\n",
        "* `pre` = 4e-15\n",
        "\n",
        "Observación: Cada resultado debe estar asignado a una variable independiente y ser mostrado en una celda"
      ],
      "metadata": {
        "id": "P2oP98tp1uob"
      }
    },
    {
      "cell_type": "markdown",
      "source": [
        "9. Implemente una función que realice una cantidad de mediciones de tiempo de alguna de sus funciones que calcula el coseno y devuelva la mediana de esas mediciones.\n",
        "\n",
        "Nombre de la función: `encontrar_mediana_de_mediciones_cos`\n",
        "Argumentos:\n",
        "* `f`: función\n",
        "* `ang`: ángulo de la función\n",
        "* `n_terms`: cantidad de términos de la función\n",
        "* `n_iter`: cantidad de iteraciones\n",
        "\n",
        "Resultado: Mediana de las mediciones realizadas.\n",
        "\n",
        "Observación: Puede emplear la función `median` del módulo `statistics`."
      ],
      "metadata": {
        "id": "UB_oUDg22Gq5"
      }
    },
    {
      "cell_type": "markdown",
      "source": [
        "10. Haga dos pruebas de `encontrar_mediana_de_mediciones_cos` para cada una de sus funciones. \n",
        "\n",
        "Prueba 1 :\n",
        "* `ang` = `inf`\n",
        "* `n_iter` = 50\n",
        "\n",
        "Prueba 2 :\n",
        "* `ang` = `sup`\n",
        "* `n_iter` = 50\n",
        "\n",
        "Observaciones:\n",
        "\n",
        "* Cada función empleará su cantidad de términos previamente calculados\n",
        "* Cada resultado deberá ser asignado a una variable independiente"
      ],
      "metadata": {
        "id": "cplcMhUb3Dpk"
      }
    },
    {
      "cell_type": "markdown",
      "source": [
        "11. Presente gráficos de barras de las medianas de los tiempos y de los speedups a partir de sus resultados del ítem anterior"
      ],
      "metadata": {
        "id": "B9v-TYsn5Bos"
      }
    },
    {
      "cell_type": "markdown",
      "source": [
        "12. Implemente una función en `Python` que calcule el seno de un arreglo de ángulos.\n",
        "\n",
        "Nombre de la función: `calc_cosens`\n",
        "\n",
        "Argumentos:\n",
        "* `f`: función\n",
        "* `inf`: extremo izquierdo del dominio\n",
        "* `sup`: extremo derecho del dominio\n",
        "* `n_angs`: cantidad de ángulos\n",
        "* `n_terms`: cantidad de términos de la función `f`\n",
        "\n",
        "Resultado: Arreglo de `numpy` con los senos de los ángulos\n",
        "\n",
        "Observación: Puede emplear la función `linspace` del módulo `numpy` para crear su arreglo de ángulos."
      ],
      "metadata": {
        "id": "xLWCijBd5Kqd"
      }
    },
    {
      "cell_type": "markdown",
      "source": [
        "13. Implemente una función que realice una cantidad de mediciones de tiempo de su función anterior y devuelva la mediana de esas mediciones.\n",
        "\n",
        "Nombre de la función: `encontrar_mediana_de_mediciones_calc_cosens`\n",
        "\n",
        "Argumentos:\n",
        "* `f`: función\n",
        "* `inf`: extremo izquierdo del dominio\n",
        "* `sup`: extremo derecho del dominio\n",
        "* `n_terms`: cantidad de términos de la función\n",
        "* `n_iter`: cantidad de iteraciones\n",
        "\n",
        "Resultado: Mediana de las mediciones realizadas.\n",
        "\n",
        "Observación: Puede emplear la función `median` del módulo `statistics`."
      ],
      "metadata": {
        "id": "jEmXSZYK6BTi"
      }
    },
    {
      "cell_type": "markdown",
      "source": [
        "14. Haga pruebas de `encontrar_mediana_de_mediciones_cosens` para cada una de sus funciones. \n",
        "\n",
        "Observaciones:\n",
        "\n",
        "* Los valores para `inf`, `sup`, `n_angs` y `n_iter` serán los mismos que los definidos anteriormente\n",
        "* Cada función empleará su cantidad de términos previamente calculados\n",
        "* Cada resultado deberá ser asignado a una variable independiente"
      ],
      "metadata": {
        "id": "YJL00rpY6kYE"
      }
    },
    {
      "cell_type": "markdown",
      "source": [
        "15. Presente gráficas de barras de las medianas calculadas en el item anterior y de los speedups a partir de los resultados del ítem anterior."
      ],
      "metadata": {
        "id": "8aD3NdZD7IHT"
      }
    },
    {
      "cell_type": "markdown",
      "source": [
        "## Distribución de puntaje\n",
        "\n",
        "| ítem | puntos |\n",
        "|:----:|:------:|\n",
        "|   1  |    1   |\n",
        "|   2  |    2   |\n",
        "|   3  |    4   |\n",
        "|   4  |   0.5  |\n",
        "|   5  |   0.5  |\n",
        "|   6  |   0.5  |\n",
        "|   7  |   1.5  |\n",
        "|   8  |   0.5  |\n",
        "|   9  |   1.5  |\n",
        "|  10  |   0.5  |\n",
        "|  11  |   0.5  |\n",
        "|  12  |   0.5  |\n",
        "|  13  |   0.5  |\n",
        "|  14  |   0.5  |\n",
        "|  15  |   0.5  |"
      ],
      "metadata": {
        "id": "c2I-zZWtAIT1"
      }
    }
  ]
}