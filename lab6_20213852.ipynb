{
 "cells": [
  {
   "cell_type": "code",
   "execution_count": 53,
   "id": "cec1e9fa",
   "metadata": {},
   "outputs": [],
   "source": [
    "def py_slow_cos(x,n_terms):\n",
    "    suma=1\n",
    "    factorial=1\n",
    "    for i in range(2,2*n_terms,2):\n",
    "        factorial*=-i*(i-1)\n",
    "        suma+=((x)**(i))/factorial\n",
    "    return suma"
   ]
  },
  {
   "cell_type": "code",
   "execution_count": 54,
   "id": "03eec5ac",
   "metadata": {},
   "outputs": [],
   "source": [
    "def py_fast_cos(x,n_terms):\n",
    "    suma=1\n",
    "    aux=1\n",
    "    for i in range(2,2*n_terms,2):\n",
    "        aux*=-(x*x)/(i*(i-1))\n",
    "        suma+=aux\n",
    "    return suma"
   ]
  },
  {
   "cell_type": "code",
   "execution_count": 55,
   "id": "259efa48",
   "metadata": {},
   "outputs": [
    {
     "name": "stdout",
     "output_type": "stream",
     "text": [
      "Overwriting c_cos.c\n"
     ]
    }
   ],
   "source": [
    "%%file c_cos.c\n",
    "\n",
    "double c_double_cos(double x,int n_terms){\n",
    "    double suma=1,aux=1;\n",
    "    for(int i=2;i<2*n_terms;aux*=-(x*x)/(i*(i-1)),suma+=aux,i+=2);\n",
    "    return suma;\n",
    "}\n",
    "\n",
    "long double c_ldouble_cos(long double x,int n_terms){\n",
    "    long double suma=1,aux=1;\n",
    "    for(int i=2;i<2*n_terms;aux*=-(x*x)/(i*(i-1)),suma+=aux,i+=2);\n",
    "    return suma;\n",
    "}"
   ]
  },
  {
   "cell_type": "code",
   "execution_count": 56,
   "id": "559e1fa2",
   "metadata": {},
   "outputs": [],
   "source": [
    "!gcc -c c_cos.c -o c_cos.o"
   ]
  },
  {
   "cell_type": "code",
   "execution_count": 57,
   "id": "067dd88d",
   "metadata": {},
   "outputs": [],
   "source": [
    "!gcc -fpic -shared c_cos.o -o c_cos.so"
   ]
  },
  {
   "cell_type": "code",
   "execution_count": 58,
   "id": "34a82dd5",
   "metadata": {},
   "outputs": [],
   "source": [
    "import ctypes\n",
    "\n",
    "def ctypes_cos():\n",
    "    ola=ctypes.CDLL('./c_cos.so')\n",
    "    ola.c_double_cos.argtypes=[ctypes.c_double,ctypes.c_int]\n",
    "    ola.c_double_cos.restype=ctypes.c_double\n",
    "    ola.c_ldouble_cos.argtypes=[ctypes.c_longdouble,ctypes.c_int]\n",
    "    ola.c_ldouble_cos.restype=ctypes.c_longdouble\n",
    "    return ola.c_double_cos,ola.c_ldouble_cos"
   ]
  },
  {
   "cell_type": "code",
   "execution_count": 59,
   "id": "3b2058f8",
   "metadata": {},
   "outputs": [],
   "source": [
    "c_double_cos,c_ldouble_cos=ctypes_cos()"
   ]
  },
  {
   "cell_type": "code",
   "execution_count": 60,
   "id": "b507db07",
   "metadata": {},
   "outputs": [],
   "source": [
    "import numpy as np\n",
    "\n",
    "def encontrar_n_terms(f,inf,sup,n_angs,pre):\n",
    "    angulos=np.linspace(inf,sup,n_angs)\n",
    "    terminos=1\n",
    "    while(True):\n",
    "        listaCalculos=[]\n",
    "        listaReferencias=[]\n",
    "        i=inf\n",
    "        while i<=sup: \n",
    "            listaCalculos.append(f(i,terminos))\n",
    "            listaReferencias.append(np.cos(i))\n",
    "            i+=1\n",
    "        if(abs(np.linalg.norm(listaCalculos)-np.linalg.norm(listaReferencias))/np.linalg.norm(listaReferencias)<pre):\n",
    "            break\n",
    "        terminos+=1\n",
    "    return terminos"
   ]
  },
  {
   "cell_type": "code",
   "execution_count": 61,
   "id": "b1296721",
   "metadata": {},
   "outputs": [],
   "source": [
    "import math\n",
    "\n",
    "inf=-2*math.pi\n",
    "sup=2*math.pi\n",
    "n_angs=1000\n",
    "pre=4e-15"
   ]
  },
  {
   "cell_type": "code",
   "execution_count": 62,
   "id": "6fb78224",
   "metadata": {},
   "outputs": [],
   "source": [
    "f=py_slow_cos\n",
    "\n",
    "a1=encontrar_n_terms(f,inf,sup,n_angs,pre)"
   ]
  },
  {
   "cell_type": "code",
   "execution_count": 63,
   "id": "2281e5e8",
   "metadata": {},
   "outputs": [
    {
     "data": {
      "text/plain": [
       "19"
      ]
     },
     "execution_count": 63,
     "metadata": {},
     "output_type": "execute_result"
    }
   ],
   "source": [
    "a1"
   ]
  },
  {
   "cell_type": "code",
   "execution_count": 64,
   "id": "a61b43bf",
   "metadata": {},
   "outputs": [],
   "source": [
    "f=py_fast_cos\n",
    "\n",
    "a2=encontrar_n_terms(f,inf,sup,n_angs,pre)"
   ]
  },
  {
   "cell_type": "code",
   "execution_count": 65,
   "id": "19afa455",
   "metadata": {},
   "outputs": [
    {
     "data": {
      "text/plain": [
       "19"
      ]
     },
     "execution_count": 65,
     "metadata": {},
     "output_type": "execute_result"
    }
   ],
   "source": [
    "a2"
   ]
  },
  {
   "cell_type": "code",
   "execution_count": 66,
   "id": "eaaa7a24",
   "metadata": {},
   "outputs": [],
   "source": [
    "f=c_double_cos\n",
    "\n",
    "a3=encontrar_n_terms(f,inf,sup,n_angs,pre)"
   ]
  },
  {
   "cell_type": "code",
   "execution_count": 67,
   "id": "9fe5af04",
   "metadata": {},
   "outputs": [
    {
     "data": {
      "text/plain": [
       "19"
      ]
     },
     "execution_count": 67,
     "metadata": {},
     "output_type": "execute_result"
    }
   ],
   "source": [
    "a3"
   ]
  },
  {
   "cell_type": "code",
   "execution_count": 68,
   "id": "16f75ea3",
   "metadata": {},
   "outputs": [],
   "source": [
    "f=c_ldouble_cos\n",
    "\n",
    "a4=encontrar_n_terms(f,inf,sup,n_angs,pre)"
   ]
  },
  {
   "cell_type": "code",
   "execution_count": 69,
   "id": "fce88779",
   "metadata": {},
   "outputs": [
    {
     "data": {
      "text/plain": [
       "19"
      ]
     },
     "execution_count": 69,
     "metadata": {},
     "output_type": "execute_result"
    }
   ],
   "source": [
    "a4"
   ]
  },
  {
   "cell_type": "code",
   "execution_count": 70,
   "id": "1da0df0f",
   "metadata": {},
   "outputs": [],
   "source": [
    "import time\n",
    "\n",
    "def encontrar_mediana_de_mediciones_cos(f,ang,n_terms,n_iter):\n",
    "    tiempos=[]\n",
    "    for i in range(n_iter):\n",
    "        tic=time.perf_counter()\n",
    "        f(ang,n_terms)\n",
    "        toc=time.perf_counter()\n",
    "        tiempos.append(1e6*(toc-tic))\n",
    "    return np.median(tiempos)   "
   ]
  },
  {
   "cell_type": "code",
   "execution_count": 71,
   "id": "d2fecba3",
   "metadata": {},
   "outputs": [],
   "source": [
    "ang=inf\n",
    "n_iter=50"
   ]
  },
  {
   "cell_type": "code",
   "execution_count": 72,
   "id": "6a5081ab",
   "metadata": {},
   "outputs": [],
   "source": [
    "f=py_slow_cos\n",
    "n_terms=a1\n",
    "\n",
    "b1=encontrar_mediana_de_mediciones_cos(f,ang,n_terms,n_iter)"
   ]
  },
  {
   "cell_type": "code",
   "execution_count": 73,
   "id": "989c3957",
   "metadata": {},
   "outputs": [
    {
     "data": {
      "text/plain": [
       "3.3894993975991383"
      ]
     },
     "execution_count": 73,
     "metadata": {},
     "output_type": "execute_result"
    }
   ],
   "source": [
    "b1"
   ]
  },
  {
   "cell_type": "code",
   "execution_count": 74,
   "id": "e4bb3e3d",
   "metadata": {},
   "outputs": [],
   "source": [
    "f=py_fast_cos\n",
    "n_terms=a2\n",
    "\n",
    "b2=encontrar_mediana_de_mediciones_cos(f,ang,n_terms,n_iter)"
   ]
  },
  {
   "cell_type": "code",
   "execution_count": 75,
   "id": "aa4f4fb7",
   "metadata": {},
   "outputs": [
    {
     "data": {
      "text/plain": [
       "3.1099989428184927"
      ]
     },
     "execution_count": 75,
     "metadata": {},
     "output_type": "execute_result"
    }
   ],
   "source": [
    "b2"
   ]
  },
  {
   "cell_type": "code",
   "execution_count": 76,
   "id": "4c68e717",
   "metadata": {},
   "outputs": [],
   "source": [
    "f=c_double_cos\n",
    "n_terms=a3\n",
    "\n",
    "b3=encontrar_mediana_de_mediciones_cos(f,ang,n_terms,n_iter)"
   ]
  },
  {
   "cell_type": "code",
   "execution_count": 77,
   "id": "34e3f7c1",
   "metadata": {},
   "outputs": [
    {
     "data": {
      "text/plain": [
       "0.4099983925698325"
      ]
     },
     "execution_count": 77,
     "metadata": {},
     "output_type": "execute_result"
    }
   ],
   "source": [
    "b3"
   ]
  },
  {
   "cell_type": "code",
   "execution_count": 78,
   "id": "f4374734",
   "metadata": {},
   "outputs": [],
   "source": [
    "f=c_ldouble_cos\n",
    "n_terms=a4\n",
    "\n",
    "b4=encontrar_mediana_de_mediciones_cos(f,ang,n_terms,n_iter)"
   ]
  },
  {
   "cell_type": "code",
   "execution_count": 79,
   "id": "bcc6a503",
   "metadata": {},
   "outputs": [
    {
     "data": {
      "text/plain": [
       "0.44349872041493654"
      ]
     },
     "execution_count": 79,
     "metadata": {},
     "output_type": "execute_result"
    }
   ],
   "source": [
    "b4"
   ]
  },
  {
   "cell_type": "code",
   "execution_count": 80,
   "id": "66131108",
   "metadata": {},
   "outputs": [],
   "source": [
    "ang=sup"
   ]
  },
  {
   "cell_type": "code",
   "execution_count": 81,
   "id": "d35bf195",
   "metadata": {},
   "outputs": [],
   "source": [
    "f=py_slow_cos\n",
    "n_terms=a1\n",
    "\n",
    "c1=encontrar_mediana_de_mediciones_cos(f,ang,n_terms,n_iter)"
   ]
  },
  {
   "cell_type": "code",
   "execution_count": 82,
   "id": "bae42745",
   "metadata": {},
   "outputs": [
    {
     "data": {
      "text/plain": [
       "3.215000106138177"
      ]
     },
     "execution_count": 82,
     "metadata": {},
     "output_type": "execute_result"
    }
   ],
   "source": [
    "c1"
   ]
  },
  {
   "cell_type": "code",
   "execution_count": 83,
   "id": "02cabeb5",
   "metadata": {},
   "outputs": [],
   "source": [
    "f=py_fast_cos\n",
    "n_terms=a2\n",
    "\n",
    "c2=encontrar_mediana_de_mediciones_cos(f,ang,n_terms,n_iter)"
   ]
  },
  {
   "cell_type": "code",
   "execution_count": 84,
   "id": "58e38c03",
   "metadata": {},
   "outputs": [
    {
     "data": {
      "text/plain": [
       "3.044999175472185"
      ]
     },
     "execution_count": 84,
     "metadata": {},
     "output_type": "execute_result"
    }
   ],
   "source": [
    "c2"
   ]
  },
  {
   "cell_type": "code",
   "execution_count": 85,
   "id": "082f7b02",
   "metadata": {},
   "outputs": [],
   "source": [
    "f=c_double_cos\n",
    "n_terms=a3\n",
    "\n",
    "c3=encontrar_mediana_de_mediciones_cos(f,ang,n_terms,n_iter)"
   ]
  },
  {
   "cell_type": "code",
   "execution_count": 86,
   "id": "e543faba",
   "metadata": {},
   "outputs": [
    {
     "data": {
      "text/plain": [
       "0.4194989742245525"
      ]
     },
     "execution_count": 86,
     "metadata": {},
     "output_type": "execute_result"
    }
   ],
   "source": [
    "c3"
   ]
  },
  {
   "cell_type": "code",
   "execution_count": 87,
   "id": "c8393e06",
   "metadata": {},
   "outputs": [],
   "source": [
    "f=c_ldouble_cos\n",
    "n_terms=a4\n",
    "\n",
    "c4=encontrar_mediana_de_mediciones_cos(f,ang,n_terms,n_iter)"
   ]
  },
  {
   "cell_type": "code",
   "execution_count": 88,
   "id": "4bc24d8c",
   "metadata": {},
   "outputs": [
    {
     "data": {
      "text/plain": [
       "0.4474986781133339"
      ]
     },
     "execution_count": 88,
     "metadata": {},
     "output_type": "execute_result"
    }
   ],
   "source": [
    "c4"
   ]
  },
  {
   "cell_type": "code",
   "execution_count": 89,
   "id": "54c5c2cd",
   "metadata": {},
   "outputs": [
    {
     "data": {
      "image/png": "[encoded data removed]",
      "text/plain": [
       "<Figure size 640x480 with 1 Axes>"
      ]
     },
     "metadata": {},
     "output_type": "display_data"
    }
   ],
   "source": [
    "import matplotlib.pyplot as plt\n",
    "\n",
    "plt.bar(['Python\\nSlow','Python\\nFast','C\\nDouble','C\\nLong Double'],[b1,b2,b3,b4],label=\"Relación de medianas en la prueba 1 en us\")\n",
    "plt.legend()\n",
    "plt.show()"
   ]
  },
  {
   "cell_type": "code",
   "execution_count": 90,
   "id": "8342e215",
   "metadata": {},
   "outputs": [
    {
     "data": {
      "image/png": "[encoded data removed]",
      "text/plain": [
       "<Figure size 640x480 with 1 Axes>"
      ]
     },
     "metadata": {},
     "output_type": "display_data"
    }
   ],
   "source": [
    "plt.bar(['Python\\nSlow','Python\\nFast','C\\nDouble','C\\nLong Double'],[c1,c2,c3,c4],label=\"Relación de medianas en la prueba 2 en us\")\n",
    "plt.legend()\n",
    "plt.show()"
   ]
  },
  {
   "cell_type": "code",
   "execution_count": 91,
   "id": "8ef89db6",
   "metadata": {},
   "outputs": [
    {
     "data": {
      "image/png": "[encoded data removed]",
      "text/plain": [
       "<Figure size 640x480 with 1 Axes>"
      ]
     },
     "metadata": {},
     "output_type": "display_data"
    }
   ],
   "source": [
    "SUp1=[b1/b2,b1/b3,b1/b4]\n",
    "\n",
    "plt.bar(['Python\\nFast','C\\nDouble','C\\nLong Double'],SUp1,label=\"Relación de SpeedUp en la prueba 1 con respecto a Python Slow\")\n",
    "plt.legend()\n",
    "plt.show()"
   ]
  },
  {
   "cell_type": "code",
   "execution_count": 92,
   "id": "ddeff168",
   "metadata": {},
   "outputs": [
    {
     "data": {
      "image/png": "[encoded data removed]",
      "text/plain": [
       "<Figure size 640x480 with 1 Axes>"
      ]
     },
     "metadata": {},
     "output_type": "display_data"
    }
   ],
   "source": [
    "SUp2=[c1/c2,c1/c3,c1/c4]\n",
    "\n",
    "plt.bar(['Python\\nFast','C\\nDouble','C\\nLong Double'],SUp2,label=\"Relación de SpeedUp en la prueba 2 con respecto a Python Slow\")\n",
    "plt.legend()\n",
    "plt.show()"
   ]
  },
  {
   "cell_type": "code",
   "execution_count": 93,
   "id": "3903769d",
   "metadata": {},
   "outputs": [],
   "source": [
    "def calc_cosens(f,inf,sup,n_angs,n_terms):\n",
    "    angulos=np.linspace(inf,sup,n_angs)\n",
    "    listaCosenos=[]\n",
    "    for i in angulos:\n",
    "        listaCosenos.append(f(i,n_terms))\n",
    "    return np.array(listaCosenos)"
   ]
  },
  {
   "cell_type": "code",
   "execution_count": 94,
   "id": "4a368418",
   "metadata": {},
   "outputs": [],
   "source": [
    "def encontrar_mediana_de_mediciones_calc_cosens(f,inf,sup,n_terms,n_iter,n_angs):\n",
    "    tiempo=[]\n",
    "    for i in range(n_iter):\n",
    "        tic=time.perf_counter()\n",
    "        calc_cosens(f,inf,sup,n_angs,n_terms)\n",
    "        toc=time.perf_counter()\n",
    "        tiempo.append(1e6*(toc-tic))\n",
    "    return np.median(tiempo)"
   ]
  },
  {
   "cell_type": "code",
   "execution_count": 95,
   "id": "20226be8",
   "metadata": {},
   "outputs": [],
   "source": [
    "f=py_slow_cos\n",
    "n_terms=a1\n",
    "\n",
    "d1=encontrar_mediana_de_mediciones_calc_cosens(f,inf,sup,n_terms,n_iter,n_angs)"
   ]
  },
  {
   "cell_type": "code",
   "execution_count": 96,
   "id": "6c76b31f",
   "metadata": {},
   "outputs": [
    {
     "data": {
      "text/plain": [
       "13716.599500185112"
      ]
     },
     "execution_count": 96,
     "metadata": {},
     "output_type": "execute_result"
    }
   ],
   "source": [
    "d1"
   ]
  },
  {
   "cell_type": "code",
   "execution_count": 97,
   "id": "459ceb6b",
   "metadata": {},
   "outputs": [],
   "source": [
    "f=py_fast_cos\n",
    "n_terms=a2\n",
    "\n",
    "d2=encontrar_mediana_de_mediciones_calc_cosens(f,inf,sup,n_terms,n_iter,n_angs)"
   ]
  },
  {
   "cell_type": "code",
   "execution_count": 98,
   "id": "bd3ba461",
   "metadata": {},
   "outputs": [
    {
     "data": {
      "text/plain": [
       "3788.8140013819793"
      ]
     },
     "execution_count": 98,
     "metadata": {},
     "output_type": "execute_result"
    }
   ],
   "source": [
    "d2"
   ]
  },
  {
   "cell_type": "code",
   "execution_count": 99,
   "id": "1dcb74d0",
   "metadata": {},
   "outputs": [],
   "source": [
    "f=c_double_cos\n",
    "n_terms=a3\n",
    "\n",
    "d3=encontrar_mediana_de_mediciones_calc_cosens(f,inf,sup,n_terms,n_iter,n_angs)"
   ]
  },
  {
   "cell_type": "code",
   "execution_count": 100,
   "id": "20eb4a2d",
   "metadata": {},
   "outputs": [
    {
     "data": {
      "text/plain": [
       "458.78700075263623"
      ]
     },
     "execution_count": 100,
     "metadata": {},
     "output_type": "execute_result"
    }
   ],
   "source": [
    "d3"
   ]
  },
  {
   "cell_type": "code",
   "execution_count": 101,
   "id": "4f9b738b",
   "metadata": {},
   "outputs": [],
   "source": [
    "f=c_ldouble_cos\n",
    "n_terms=a4\n",
    "\n",
    "d4=encontrar_mediana_de_mediciones_calc_cosens(f,inf,sup,n_terms,n_iter,n_angs)"
   ]
  },
  {
   "cell_type": "code",
   "execution_count": 102,
   "id": "cc45c8c8",
   "metadata": {},
   "outputs": [
    {
     "data": {
      "text/plain": [
       "475.898499644245"
      ]
     },
     "execution_count": 102,
     "metadata": {},
     "output_type": "execute_result"
    }
   ],
   "source": [
    "d4"
   ]
  },
  {
   "cell_type": "code",
   "execution_count": 103,
   "id": "fea00537",
   "metadata": {},
   "outputs": [
    {
     "data": {
      "image/png": "[encoded data removed]",
      "text/plain": [
       "<Figure size 640x480 with 1 Axes>"
      ]
     },
     "metadata": {},
     "output_type": "display_data"
    }
   ],
   "source": [
    "plt.bar(['Python\\nSlow','Python\\nFast','C\\nDouble','C\\nLong Double'],[d1,d2,d3,d4],label=\"Relación de medianas al calcular una rango de cosenos en us\")\n",
    "plt.legend()\n",
    "plt.show()"
   ]
  },
  {
   "cell_type": "code",
   "execution_count": 104,
   "id": "3618660d",
   "metadata": {},
   "outputs": [
    {
     "data": {
      "image/png": "[encoded data removed]",
      "text/plain": [
       "<Figure size 640x480 with 1 Axes>"
      ]
     },
     "metadata": {},
     "output_type": "display_data"
    }
   ],
   "source": [
    "SUp3=[d1/d2,d1/d3,d1/d4]\n",
    "\n",
    "plt.bar(['Python\\nFast','C\\nDouble','C\\nLong Double'],SUp3,label=\"Relación de SpeedUp al calcular un rango de cosenos con respecto a Python Slow\")\n",
    "plt.legend()\n",
    "plt.show()"
   ]
  }
 ],
 "metadata": {
  "kernelspec": {
   "display_name": "Python 3 (ipykernel)",
   "language": "python",
   "name": "python3"
  },
  "language_info": {
   "codemirror_mode": {
    "name": "ipython",
    "version": 3
   },
   "file_extension": ".py",
   "mimetype": "text/x-python",
   "name": "python",
   "nbconvert_exporter": "python",
   "pygments_lexer": "ipython3",
   "version": "3.10.6"
  }
 },
 "nbformat": 4,
 "nbformat_minor": 5
}
