{
 "cells": [
  {
   "cell_type": "markdown",
   "metadata": {},
   "source": [
    "### Pregunta 1"
   ]
  },
  {
   "cell_type": "code",
   "execution_count": 77,
   "metadata": {},
   "outputs": [
    {
     "name": "stdout",
     "output_type": "stream",
     "text": [
      "processor\t: 0\n",
      "vendor_id\t: GenuineIntel\n",
      "cpu family\t: 6\n",
      "model\t\t: 126\n",
      "model name\t: Intel(R) Core(TM) i3-1005G1 CPU @ 1.20GHz\n",
      "stepping\t: 5\n",
      "cpu MHz\t\t: 1190.403\n",
      "cache size\t: 4096 KB\n",
      "physical id\t: 0\n",
      "siblings\t: 2\n",
      "core id\t\t: 0\n",
      "cpu cores\t: 2\n",
      "apicid\t\t: 0\n",
      "initial apicid\t: 0\n",
      "fpu\t\t: yes\n",
      "fpu_exception\t: yes\n",
      "cpuid level\t: 22\n",
      "wp\t\t: yes\n",
      "flags\t\t: fpu vme de pse tsc msr pae mce cx8 apic sep mtrr pge mca cmov pat pse36 clflush mmx fxsr sse sse2 ht syscall nx rdtscp lm constant_tsc rep_good nopl xtopology nonstop_tsc cpuid tsc_known_freq pni pclmulqdq ssse3 cx16 pcid sse4_1 sse4_2 x2apic movbe popcnt aes xsave avx rdrand hypervisor lahf_lm abm 3dnowprefetch invpcid_single fsgsbase bmi1 avx2 bmi2 invpcid rdseed clflushopt md_clear flush_l1d arch_capabilities\n",
      "bugs\t\t: spectre_v1 spectre_v2 spec_store_bypass swapgs itlb_multihit srbds mmio_stale_data retbleed gds\n",
      "bogomips\t: 2380.80\n",
      "clflush size\t: 64\n",
      "cache_alignment\t: 64\n",
      "address sizes\t: 39 bits physical, 48 bits virtual\n",
      "power management:\n",
      "\n",
      "processor\t: 1\n",
      "vendor_id\t: GenuineIntel\n",
      "cpu family\t: 6\n",
      "model\t\t: 126\n",
      "model name\t: Intel(R) Core(TM) i3-1005G1 CPU @ 1.20GHz\n",
      "stepping\t: 5\n",
      "cpu MHz\t\t: 1190.403\n",
      "cache size\t: 4096 KB\n",
      "physical id\t: 0\n",
      "siblings\t: 2\n",
      "core id\t\t: 1\n",
      "cpu cores\t: 2\n",
      "apicid\t\t: 1\n",
      "initial apicid\t: 1\n",
      "fpu\t\t: yes\n",
      "fpu_exception\t: yes\n",
      "cpuid level\t: 22\n",
      "wp\t\t: yes\n",
      "flags\t\t: fpu vme de pse tsc msr pae mce cx8 apic sep mtrr pge mca cmov pat pse36 clflush mmx fxsr sse sse2 ht syscall nx rdtscp lm constant_tsc rep_good nopl xtopology nonstop_tsc cpuid tsc_known_freq pni pclmulqdq ssse3 cx16 pcid sse4_1 sse4_2 x2apic movbe popcnt aes xsave avx rdrand hypervisor lahf_lm abm 3dnowprefetch invpcid_single fsgsbase bmi1 avx2 bmi2 invpcid rdseed clflushopt md_clear flush_l1d arch_capabilities\n",
      "bugs\t\t: spectre_v1 spectre_v2 spec_store_bypass swapgs itlb_multihit srbds mmio_stale_data retbleed gds\n",
      "bogomips\t: 2380.80\n",
      "clflush size\t: 64\n",
      "cache_alignment\t: 64\n",
      "address sizes\t: 39 bits physical, 48 bits virtual\n",
      "power management:\n",
      "\n"
     ]
    }
   ],
   "source": [
    "! cat /proc/cpuinfo"
   ]
  },
  {
   "cell_type": "markdown",
   "metadata": {},
   "source": [
    "### La frecuencia del CPU es de 1190.403 MHz, esto lo vemos por el código y aparte por la información brindada en el administrador de tareas"
   ]
  },
  {
   "cell_type": "markdown",
   "metadata": {},
   "source": [
    "### Pregunta 2"
   ]
  },
  {
   "cell_type": "code",
   "execution_count": 78,
   "metadata": {},
   "outputs": [
    {
     "name": "stdout",
     "output_type": "stream",
     "text": [
      "Overwriting operaciones.c\n"
     ]
    }
   ],
   "source": [
    "%%file operaciones.c\n",
    "\n",
    "int suma( int a, int b){\n",
    "    return a+b;\n",
    "}\n",
    "int resta( int a, int b){\n",
    "    return a-b;\n",
    "}\n",
    "int producto( int a, int b){\n",
    "    return (a*b);\n",
    "}\n",
    "int cuadrados( int a, int b){\n",
    "    return ((a*a)+ (b*b));\n",
    "}\n",
    "int cubos( int a, int b){\n",
    "    return ((a*a*a)+ (b*b*b));\n",
    "}\n",
    "int potenciasde4( int a, int b){\n",
    "    return ((a*a*a*a)+(b*b*b*b));\n",
    "}\n"
   ]
  },
  {
   "cell_type": "code",
   "execution_count": 79,
   "metadata": {},
   "outputs": [],
   "source": [
    "! gcc -c -Os operaciones.c -o operaciones.o"
   ]
  },
  {
   "cell_type": "code",
   "execution_count": 80,
   "metadata": {},
   "outputs": [
    {
     "name": "stdout",
     "output_type": "stream",
     "text": [
      "\n",
      "operaciones.o:     file format elf64-x86-64\n",
      "\n",
      "\n",
      "Disassembly of section .text:\n",
      "\n",
      "0000000000000000 <suma>:\n",
      "   0:\tf3 0f 1e fa          \tendbr64 \n",
      "   4:\t8d 04 37             \tlea    eax,[rdi+rsi*1]\n",
      "   7:\tc3                   \tret    \n",
      "\n",
      "0000000000000008 <resta>:\n",
      "   8:\tf3 0f 1e fa          \tendbr64 \n",
      "   c:\t89 f8                \tmov    eax,edi\n",
      "   e:\t29 f0                \tsub    eax,esi\n",
      "  10:\tc3                   \tret    \n",
      "\n",
      "0000000000000011 <producto>:\n",
      "  11:\tf3 0f 1e fa          \tendbr64 \n",
      "  15:\t89 f8                \tmov    eax,edi\n",
      "  17:\t0f af c6             \timul   eax,esi\n",
      "  1a:\tc3                   \tret    \n",
      "\n",
      "000000000000001b <cuadrados>:\n",
      "  1b:\tf3 0f 1e fa          \tendbr64 \n",
      "  1f:\t0f af ff             \timul   edi,edi\n",
      "  22:\t0f af f6             \timul   esi,esi\n",
      "  25:\t8d 04 37             \tlea    eax,[rdi+rsi*1]\n",
      "  28:\tc3                   \tret    \n",
      "\n",
      "0000000000000029 <cubos>:\n",
      "  29:\tf3 0f 1e fa          \tendbr64 \n",
      "  2d:\t89 f8                \tmov    eax,edi\n",
      "  2f:\t89 f2                \tmov    edx,esi\n",
      "  31:\t0f af c7             \timul   eax,edi\n",
      "  34:\t0f af d6             \timul   edx,esi\n",
      "  37:\t0f af c7             \timul   eax,edi\n",
      "  3a:\t0f af d6             \timul   edx,esi\n",
      "  3d:\t01 d0                \tadd    eax,edx\n",
      "  3f:\tc3                   \tret    \n",
      "\n",
      "0000000000000040 <potenciasde4>:\n",
      "  40:\tf3 0f 1e fa          \tendbr64 \n",
      "  44:\t0f af ff             \timul   edi,edi\n",
      "  47:\t0f af f6             \timul   esi,esi\n",
      "  4a:\t0f af ff             \timul   edi,edi\n",
      "  4d:\t0f af f6             \timul   esi,esi\n",
      "  50:\t8d 04 37             \tlea    eax,[rdi+rsi*1]\n",
      "  53:\tc3                   \tret    \n"
     ]
    }
   ],
   "source": [
    "! objdump -M intel -j .text -D operaciones.o"
   ]
  },
  {
   "cell_type": "markdown",
   "metadata": {},
   "source": [
    "### Pregunta 3"
   ]
  },
  {
   "cell_type": "code",
   "execution_count": 81,
   "metadata": {},
   "outputs": [
    {
     "name": "stdout",
     "output_type": "stream",
     "text": [
      "Overwriting main.c\n"
     ]
    }
   ],
   "source": [
    "%%file main.c\n",
    "\n",
    "#include <stdlib.h>\n",
    "#include <stdio.h>\n",
    "#include <time.h>\n",
    "#include <math.h>\n",
    "#include <x86intrin.h>\n",
    "\n",
    "//funcion para calcular la mediana de un conjunto de arreglos con elementos tipo double\n",
    "\n",
    "double calcular_mediana(double *arr, int N){ //N es la cantidad de elementos de tu arregl\n",
    "        double temp = 0.0;\n",
    "        for(int i = 0; i < N - 1; i++){\n",
    "            for(int j = 0; j < N - i - 1; j++){\n",
    "                if (arr[j] > arr[j+1]){\n",
    "                    temp = arr[j];\n",
    "                    arr[j] = arr[j+1];\n",
    "                    arr[j+1] = temp;\n",
    "                }\n",
    "            }\n",
    "        }\n",
    "   \n",
    "        if (N % 2 == 0){\n",
    "            return (arr[ N / 2 ] + arr[ (N/2) - 1 ]) / 2.0;\n",
    "        }\n",
    "        return arr[ N / 2 ];\n",
    "        \n",
    "}\n",
    "\n",
    "//funciones implementadas en el item 2\n",
    "\n",
    "int suma( int a, int b){\n",
    "    return a+b;\n",
    "}\n",
    "int resta( int a, int b){\n",
    "    return a-b;\n",
    "}\n",
    "int producto( int a, int b){\n",
    "    return (a*b);\n",
    "}\n",
    "int cuadrados( int a, int b){\n",
    "    return ((a*a)+ (b*b));\n",
    "}\n",
    "int cubos( int a, int b){\n",
    "    return ((a*a*a)+ (b*b*b));\n",
    "}\n",
    "int potenciasde4( int a, int b){\n",
    "    return ((a*a*a*a)+(b*b*b*b));\n",
    "}\n",
    "\n",
    "//Una función que devuelve el número de instrucciones de las funciones implementadas en el ítem 2\n",
    "\n",
    "int numero_instrucciones(int opcion){ //hay 6 opciones pues hay 6 operaciones hechas en el item 2\n",
    "    int instruccion;\n",
    "    if(opcion==1){\n",
    "        instruccion=3;\n",
    "    }\n",
    "    else if (opcion==2){\n",
    "        instruccion=4;\n",
    "    }\n",
    "    else if (opcion==3){\n",
    "        instruccion=4;\n",
    "    }\n",
    "    else if (opcion==4){\n",
    "        instruccion=5;\n",
    "    }\n",
    "    else if (opcion==5){\n",
    "        instruccion=9;\n",
    "    }\n",
    "    else if (opcion==6){\n",
    "        instruccion=7;\n",
    "    }\n",
    "    return instruccion;\n",
    "}\n",
    "\n",
    "//Una función que devuelve el CPI. La función solo debe recibir como argumentos la cantidad de ciclos, y la cantidad de instrucciones\n",
    "\n",
    "double calcular_CPI(int instruccion, int medi){\n",
    "    double cpi= (double)medi/(double)instruccion;\n",
    "    return cpi;\n",
    "}\n",
    "\n",
    "// Una función que devuelve los MIPS. La función solo debe recibir como argumentos la frecuencia de reloj y el CPI.\n",
    "\n",
    "double calcular_MIPS(double frecuencia, double cpi){ //frecuencia de la primera pregunta\n",
    "    double mips= frecuencia/(cpi* pow(10, 6));\n",
    "    return mips;\n",
    "}\n",
    "\n",
    "//Qué media pitagórica debe emplear para encontrar el CPI medio de los CPIs calculados? \n",
    "//Decidimos usar la media aritmetica para este caso\n",
    "// A partir de su respuesta anterior implemente una función que permita calcular dicha media pitagórica de forma generalizada.\n",
    "\n",
    "double calcular_media(double* arr, int N){\n",
    "    int i=0;\n",
    "    double sumaCPIs=0;\n",
    "\n",
    "        for (i=0; i<N; i++){\n",
    "            sumaCPIs = sumaCPIs + arr[i-1];\n",
    "        }\n",
    "\n",
    "        return sumaCPIs/N;\n",
    "}\n",
    "\n",
    "//Una función de nombre CPI_mediano. Esta función solo recibirá como argumento un número entero\n",
    "\n",
    "double CPI_mediano(int opcion){\n",
    "    srand(time(NULL));//Se inicializa el generador de números aleatorios con el valor actual de tiempo\n",
    "\n",
    "    int a;\n",
    "    int b;\n",
    "    int resultado= 0;\n",
    "\n",
    "    long tic, toc;\n",
    "\n",
    "    int N = 250000;\n",
    "\n",
    "    double* arr = (double*)calloc(N, sizeof(double));\n",
    "\n",
    "    for(int i = 0; i < N; i++){\n",
    "        srand(time(NULL));//Se inicializa el generador de números aleatorios con el valor actual del tiempo\n",
    "        \n",
    "        a = rand()%9;//numero aleatorio entre 0 y 9\n",
    "        b = rand()%9;\n",
    "\n",
    "        //aca colocaremos todas las opciones brindadas al inicio\n",
    "\n",
    "        if(opcion==1){\n",
    "            tic = __rdtsc();\n",
    "            resultado = suma(a,b);\n",
    "            toc = __rdtsc();\n",
    "            arr[i]= (long)(toc-tic);\n",
    "        } else if (opcion==2){\n",
    "            tic = __rdtsc();\n",
    "            resultado= resta(a,b);\n",
    "            toc = __rdtsc();\n",
    "            arr[i]= (long)(toc-tic);\n",
    "        } else if( opcion==3){\n",
    "            tic = __rdtsc();\n",
    "            resultado= producto(a,b);\n",
    "            toc = __rdtsc();\n",
    "            arr[i]= (long)(toc-tic);\n",
    "        } else if (opcion==4){\n",
    "            tic = __rdtsc();\n",
    "            resultado= cuadrados(a,b);\n",
    "            toc = __rdtsc();\n",
    "            arr[i]= (long)(toc-tic);\n",
    "        } else if (opcion==5){\n",
    "            tic = __rdtsc();\n",
    "            resultado= cubos(a,b);\n",
    "            toc = __rdtsc();\n",
    "            arr[i]= (long)(toc-tic);\n",
    "        } else if (opcion==6){\n",
    "            tic = __rdtsc();\n",
    "            resultado= potenciasde4(a,b);\n",
    "            toc = __rdtsc();\n",
    "            arr[i]= (long)(toc-tic);\n",
    "        }\n",
    "    }\n",
    "    //de lo anterior tendremos una serie de 250 000 tiempos que tarda en hacer la operacion\n",
    "\n",
    "    double medi= calcular_mediana(arr, N); //de aca calculamos el cpi mediano\n",
    "\n",
    "    int instruccion=numero_instrucciones(opcion);\n",
    "    \n",
    "    double cpi_mediano=calcular_CPI(instruccion, medi);\n",
    "\n",
    "    return cpi_mediano;\n",
    "}\n",
    "\n",
    "int main(){\n",
    "\n",
    "    int N=6;\n",
    "\n",
    "    double* arr= (double*)calloc(N, sizeof(double));\n",
    "\n",
    "    double frecuencia= 1190.403* pow(10,6);\n",
    "    \n",
    "    \n",
    "\n",
    "    for(int i=1; i<=N; i++){\n",
    "\n",
    "        arr[i-1]= CPI_mediano(i);\n",
    "\n",
    "        printf(\"Operacion %d:\\n\", i);\n",
    "\n",
    "        printf(\"El CPI mediano calculado para esta operación es: %lf \\n\", arr[i-1]);\n",
    "\n",
    "    }\n",
    "\n",
    "    //ahora empleamos la media pitagorica, que para nosotros es la media aritmética\n",
    "\n",
    "    double media_aritmetica_CPI= calcular_media(arr, N);\n",
    "    \n",
    "    printf(\"La media pitagórica calculada (la media aritmética) es: %lf\\n\", media_aritmetica_CPI);\n",
    "    \n",
    "\n",
    "    \n",
    "    double mips=calcular_MIPS(frecuencia, media_aritmetica_CPI);\n",
    "\n",
    "    printf(\"MIPS: %lf\\n\", mips);\n",
    "\n",
    "free(arr);\n",
    "\n",
    "return 0;\n",
    "}"
   ]
  },
  {
   "cell_type": "code",
   "execution_count": 82,
   "metadata": {},
   "outputs": [],
   "source": [
    "! gcc -Os main.c -o main -lm"
   ]
  },
  {
   "cell_type": "code",
   "execution_count": 83,
   "metadata": {},
   "outputs": [
    {
     "name": "stdout",
     "output_type": "stream",
     "text": [
      "Operacion 1:\n",
      "El CPI mediano calculado para esta operación es: 3.333333 \n",
      "Operacion 2:\n",
      "El CPI mediano calculado para esta operación es: 2.500000 \n",
      "Operacion 3:\n",
      "El CPI mediano calculado para esta operación es: 2.500000 \n",
      "Operacion 4:\n",
      "El CPI mediano calculado para esta operación es: 2.000000 \n",
      "Operacion 5:\n",
      "El CPI mediano calculado para esta operación es: 1.111111 \n",
      "Operacion 6:\n",
      "El CPI mediano calculado para esta operación es: 1.428571 \n",
      "La media pitagórica calculada (la media aritmética) es: 1.907407\n",
      "MIPS: 624.094777\n"
     ]
    }
   ],
   "source": [
    "! ./main"
   ]
  },
  {
   "cell_type": "markdown",
   "metadata": {},
   "source": [
    "### 4. ¿Qué opciones deberá usar para generar el ejecutable del archivo `main.c`? ¿Por qué? Genere el ejecutable con las opciones que usted ha indicado en su respuesta y muestre seis ejecuciones en celdas separadas.\n",
    "\n"
   ]
  },
  {
   "cell_type": "markdown",
   "metadata": {},
   "source": [
    "Usamos el compilador gcc, colocamos el nombre del ejecutable, que en este caso es main.c. Usamos -o con el nombre del ejecutable pues sera el output y usamos main.c pues es el nombre del archivo fuente que ese encuentra en lenguaje C. "
   ]
  },
  {
   "cell_type": "code",
   "execution_count": 84,
   "metadata": {},
   "outputs": [],
   "source": [
    "! gcc -o programa1 main.c\n"
   ]
  },
  {
   "cell_type": "code",
   "execution_count": 85,
   "metadata": {},
   "outputs": [
    {
     "name": "stdout",
     "output_type": "stream",
     "text": [
      "Operacion 1:\n",
      "El CPI mediano calculado para esta operación es: 3.333333 \n",
      "Operacion 2:\n",
      "El CPI mediano calculado para esta operación es: 2.500000 \n",
      "Operacion 3:\n",
      "El CPI mediano calculado para esta operación es: 2.500000 \n",
      "^C\n"
     ]
    }
   ],
   "source": [
    "! ./programa1"
   ]
  }
 ],
 "metadata": {
  "kernelspec": {
   "display_name": "Python 3",
   "language": "python",
   "name": "python3"
  },
  "language_info": {
   "codemirror_mode": {
    "name": "ipython",
    "version": 3
   },
   "file_extension": ".py",
   "mimetype": "text/x-python",
   "name": "python",
   "nbconvert_exporter": "python",
   "pygments_lexer": "ipython3",
   "version": "3.10.12"
  },
  "orig_nbformat": 4
 },
 "nbformat": 4,
 "nbformat_minor": 2
}
